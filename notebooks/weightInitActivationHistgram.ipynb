{
 "cells": [
  {
   "cell_type": "code",
   "execution_count": 2,
   "metadata": {},
   "outputs": [
    {
     "data": {
      "text/plain": [
       "sigmoid (generic function with 1 method)"
      ]
     },
     "execution_count": 2,
     "metadata": {},
     "output_type": "execute_result"
    }
   ],
   "source": [
    "function sigmoid(x)\n",
    "    return 1 ./ (1 .+ exp.(-x))\n",
    "end"
   ]
  },
  {
   "cell_type": "code",
   "execution_count": 3,
   "metadata": {},
   "outputs": [
    {
     "data": {
      "text/plain": [
       "1000×100 Matrix{Float64}:\n",
       "  0.0423111   1.03217    0.230199  …  -0.720176   1.75234    0.505626\n",
       " -1.27822    -0.674563   1.54794      -0.125384  -1.06229   -0.791623\n",
       "  0.578724    2.51476   -0.111292      0.112257   2.267     -1.05115\n",
       " -1.17887    -0.120871  -1.56217       0.724152  -0.436831   0.402378\n",
       " -0.587935   -1.38933   -0.744984      1.08183    0.418901   0.0161274\n",
       "  0.990946   -1.08205    0.724317  …  -1.00863    0.581004   0.257439\n",
       "  0.304988    0.271065  -0.329014      0.43297   -0.88684   -0.630081\n",
       " -0.448723    1.13572   -2.07335      -0.245945  -0.179011   0.372445\n",
       " -0.682005   -2.11648   -0.168268     -0.260993  -1.15461   -1.55426\n",
       "  1.03392    -1.37089    1.04112       1.08691    0.809124   0.281643\n",
       " -0.175336    0.74367   -3.35672   …  -2.15331   -1.04265   -1.14266\n",
       " -1.50849     0.115165   0.375022     -1.39077    1.00691    1.64481\n",
       "  0.943421   -0.422532  -0.637204      0.581636   1.00302   -0.443212\n",
       "  ⋮                                ⋱                        \n",
       " -0.355599    0.78418   -1.49772       0.960149  -0.506057   0.404507\n",
       "  0.207703   -0.89345    0.523283      1.2146     0.9109     0.261656\n",
       "  0.389616   -0.48671   -0.588252  …  -0.43522    0.450137   1.63939\n",
       " -0.488146   -0.584231   0.678136     -0.363034  -1.76411    0.554649\n",
       "  1.27401     0.963193  -1.63263       0.202305  -0.760922  -0.507497\n",
       " -0.740037    0.269264  -1.36657       0.96019    0.741886  -1.3198\n",
       "  0.265281   -0.174778  -1.00605       0.193501  -1.55326   -0.638171\n",
       " -1.44246    -0.983938  -0.347763  …  -0.012494   0.458017  -0.875716\n",
       " -0.0518373   0.311      1.70583       0.567272  -0.305271   1.39151\n",
       " -0.326847    1.50279    1.2013        0.478637  -1.02266   -0.860613\n",
       "  0.66967     0.566684  -0.554786      0.193255  -0.16732    0.200413\n",
       " -0.702727   -0.246886   0.629777      0.560068   1.68706   -0.770219"
      ]
     },
     "execution_count": 3,
     "metadata": {},
     "output_type": "execute_result"
    }
   ],
   "source": [
    "x = randn(1000, 100)"
   ]
  },
  {
   "cell_type": "code",
   "execution_count": 5,
   "metadata": {},
   "outputs": [
    {
     "data": {
      "text/plain": [
       "Dict{Any, Any}()"
      ]
     },
     "execution_count": 5,
     "metadata": {},
     "output_type": "execute_result"
    }
   ],
   "source": [
    "nodeNum = 100\n",
    "hiddenLayerSize = 5\n",
    "activations = Dict{}()"
   ]
  },
  {
   "cell_type": "code",
   "execution_count": 46,
   "metadata": {},
   "outputs": [],
   "source": [
    "for i in 1:hiddenLayerSize\n",
    "    if i != 1\n",
    "        x = activations[i-1]\n",
    "    end\n",
    "#     w = randn(nodeNum, nodeNum) .* 1\n",
    "#     w = randn(nodeNum, nodeNum) .* 0.01\n",
    "    # xavierの初期化方法\n",
    "    w = randn(nodeNum, nodeNum)  ./ sqrt(nodeNum)\n",
    "    z = x * w\n",
    "    a = sigmoid.(z)\n",
    "    activations[i] = a\n",
    "end"
   ]
  },
  {
   "cell_type": "code",
   "execution_count": 47,
   "metadata": {},
   "outputs": [],
   "source": [
    "using PyPlot"
   ]
  },
  {
   "cell_type": "code",
   "execution_count": 48,
   "metadata": {},
   "outputs": [
    {
     "data": {
      "image/png": "[encoded data removed]",
      "text/plain": [
       "Figure(PyObject <Figure size 640x480 with 5 Axes>)"
      ]
     },
     "metadata": {},
     "output_type": "display_data"
    }
   ],
   "source": [
    "# ヒストグラムを描画\n",
    "for (i, a) in activations\n",
    "    subplot(1, length(activations), i)\n",
    "    title(string(i) * \"-layer\")\n",
    "    hist(a, 30, range=(0,1))\n",
    "end"
   ]
  },
  {
   "cell_type": "code",
   "execution_count": null,
   "metadata": {},
   "outputs": [],
   "source": []
  }
 ],
 "metadata": {
  "kernelspec": {
   "display_name": "Julia 1.6.2",
   "language": "julia",
   "name": "julia-1.6"
  },
  "language_info": {
   "file_extension": ".jl",
   "mimetype": "application/julia",
   "name": "julia",
   "version": "1.6.2"
  }
 },
 "nbformat": 4,
 "nbformat_minor": 2
}
